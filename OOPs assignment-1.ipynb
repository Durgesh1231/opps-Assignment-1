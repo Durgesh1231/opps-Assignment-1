{
 "cells": [
  {
   "cell_type": "markdown",
   "id": "b7bca217-a88b-4c1d-8a2d-d9034e3d45b1",
   "metadata": {},
   "source": [
    "'''Ans 1.\n",
    "\n",
    "Python is a object oriented languagae.\n",
    "Class- almost everything in python is an object, with its properties and methods.\n",
    "       a class is like an object constructor or a \"Blueprint\" for creating object.\n",
    "    \n",
    "Object- Object are an instance of a class. it is an entity that has state and behavier.\n",
    "        In a nutshell, it is an instance of a class that can access in data.\n",
    "    \n",
    "eg..'''\n",
    "\n",
    "class family:\n",
    "      def __init__(self,name,email,mob_no):\n",
    "            self.name=name\n",
    "            self.email=email\n",
    "            self.mob_no=mob_no\n",
    "      \n",
    "      def family_detail(self):\n",
    "            print(self.name,self.email,self.mob_no)\n",
    "     "
   ]
  },
  {
   "cell_type": "markdown",
   "id": "037855eb-636f-4874-bfd0-eec6e9cace24",
   "metadata": {},
   "source": [
    "Family = family('Durgesh bhardwaj' , 'durg@gmail.com' , 9151699807)   # this is object declaration \n"
   ]
  },
  {
   "cell_type": "code",
   "execution_count": null,
   "id": "e73bb7a9-a53b-4d6f-9c29-d95bbce6a1a3",
   "metadata": {},
   "outputs": [],
   "source": []
  },
  {
   "cell_type": "markdown",
   "id": "c54e7fce-2369-4f60-8426-a0039847f16d",
   "metadata": {},
   "source": [
    "Ans 2.\n",
    "\n",
    "Four pillar of OOps is -:\n",
    "    1. Abstraction \n",
    "    2. Encapsulation \n",
    "    3. Inheritance \n",
    "    4. Polymorphism"
   ]
  },
  {
   "cell_type": "code",
   "execution_count": null,
   "id": "e6e3df62-cc0c-43a3-b2f9-e7c65116867f",
   "metadata": {},
   "outputs": [],
   "source": []
  },
  {
   "cell_type": "markdown",
   "id": "e5d4eb06-d506-495a-bb7c-97af0bbba4e3",
   "metadata": {},
   "source": [
    "'''Ans 3.\n",
    "\n",
    "There is a method called __init__() for this task . this method is called automatically whenever\n",
    "a new object of a class is created. this type of function is also known as the constructor function.\n",
    "A constructor function is a function that us called every time a new class object is created.\n",
    "\n",
    "eg..'''\n",
    "\n",
    "class car:\n",
    "    def __init__(self,name,model,cost):\n",
    "        self.name=name\n",
    "        self.model=model\n",
    "        self.cost=cost\n",
    "        \n",
    "    def car_detail(self):\n",
    "        print(self.name,self.model,self.cost)"
   ]
  },
  {
   "cell_type": "markdown",
   "id": "6219dc53-1a74-4d05-982e-d271fdd4c866",
   "metadata": {},
   "source": [
    "Car = car('audi', 2022 , '60 lakh')"
   ]
  },
  {
   "cell_type": "code",
   "execution_count": null,
   "id": "bed78e60-cb96-4324-bbf8-7bc9b785a4b8",
   "metadata": {},
   "outputs": [],
   "source": []
  },
  {
   "cell_type": "markdown",
   "id": "997d96cd-acdb-42c0-a277-ad08c6b24850",
   "metadata": {},
   "source": [
    "Ans 4.\n",
    "\n",
    "\"self\" represent the instance of the class. By using the \"self\" we can access the attribute and \n",
    " methods of the class in Python. It binds the attribute with the given argument.\n",
    "    \n",
    "-> The reason you need to use self self. is bcoz Python does not use the @syntex to refer to instance attributes.\n",
    "-> Self is always pointing to current object  "
   ]
  },
  {
   "cell_type": "code",
   "execution_count": null,
   "id": "99529b0c-7c87-43ac-8722-85424066f3b9",
   "metadata": {},
   "outputs": [],
   "source": []
  },
  {
   "cell_type": "markdown",
   "id": "dd78340b-36ed-4f65-80ec-73632f903c0f",
   "metadata": {},
   "source": [
    "Ans 5.\n",
    "\n",
    "Inheritance- Inheritance is a defined as the mechanism of inheriting the properties of the base class \n",
    "               to the child class.\n",
    "    \n",
    "    there are 4 types of Inheritance-:\n",
    "        1.single inheritance\n",
    "        2.multiple inheritance \n",
    "        3.multilevel inheritance\n",
    "        4.Hieranchical inheritance\n",
    "        \n",
    "eg.1\n",
    "class parents:\n",
    "    def parents_name(self):\n",
    "        return \"my father name is Chandrabhan\"\n",
    "    \n",
    "    \n",
    "class durgesh(parents):\n",
    "    pass\n",
    "\n",
    "durgesh_obj=durgesh()\n",
    "\n",
    "\n",
    "eg.2\n",
    "\n",
    "class class1():\n",
    "    def test_class1(self):\n",
    "        return \"this is meth of class 1\"\n",
    "    \n",
    "\n",
    "    class class2(class1):\n",
    "        def test_class2(self):\n",
    "            return \"this is meth fron class2\"\n",
    "        \n",
    "class class3(class2):\n",
    "        pass\n",
    "    \n",
    "    \n",
    "obj_class3=class3()\n",
    "\n",
    "obj_class3.test_class2()\n",
    "\n",
    "\n",
    "eg.3.....\n",
    "\n",
    "class class1():\n",
    "    def test_class1(self):\n",
    "        return \"this is 1 class\"\n",
    "    \n",
    "class class2():\n",
    "    def test_class2(self):\n",
    "        return \"this is 2 class\"\n",
    "    \n",
    "class class3(class1,class2):\n",
    "    pass\n",
    "\n",
    "obj_class3=class3()"
   ]
  }
 ],
 "metadata": {
  "kernelspec": {
   "display_name": "Python 3 (ipykernel)",
   "language": "python",
   "name": "python3"
  },
  "language_info": {
   "codemirror_mode": {
    "name": "ipython",
    "version": 3
   },
   "file_extension": ".py",
   "mimetype": "text/x-python",
   "name": "python",
   "nbconvert_exporter": "python",
   "pygments_lexer": "ipython3",
   "version": "3.10.8"
  }
 },
 "nbformat": 4,
 "nbformat_minor": 5
}
